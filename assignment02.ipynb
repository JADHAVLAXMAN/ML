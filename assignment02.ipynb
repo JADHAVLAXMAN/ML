{
 "cells": [
  {
   "cell_type": "markdown",
   "metadata": {},
   "source": [
    "While not all data relies on statistics, a lot of the exiciting topics like machine learning or analysis relies on statistican concepts.\n",
    "\n",
    "\n",
    "\n",
    "\n",
    "\n",
    "# What is Statistics?\n",
    "\n",
    "Statistical is a discipline that uses data to support claims about populations. These \"populations\" are what we refer to as \"distribution\". Most statistical analysis is based on probability, which is why these pieces are usually presented together. More often than not, you'll see courses labeled \"Intro to Probability and Statistics\" rather than separate intro to probability and into to statistics courses. This is because probability is the study of random events, or the study of how likely it is that some event will happen.\n",
    "\n",
    "\n",
    "\n",
    "\n",
    "# Descriptive vs Inferential Statistics \n",
    "\n",
    "Generally speaking, statistics is splite into two subfields: descriptive and inferential. The difference is subtle, but important. Descriptive statistics refer to the portion of statistics dedicated to summarizing a total population. Inferential Statistics, on the other hand, allows us to make inferences of a population from its subpopulation. Unlike descriptive statistics, inferential statistics are never 100% accurate because its calculations are measured without the total population.\n",
    "\n",
    "\n",
    "\n",
    "# Descriptive Statistics \n",
    "\n",
    "Once again, to review, descriptive statistics refers to the statistical tools used to summarize a dataset. One of the frist operations often used to get a sense of what a given data looks like is the mean operation.\n",
    "\n",
    "Mean\n",
    "\n",
    "You know what the mean is, you've heard it every time your computer science professor handed your midterms back and announced that the average, or mean, was a disappointing low of 59. Woops. With the said, the \"average\" is just one of many summary statistics you might choose to describe the typical value of the center tendency of a sample. You can find the formal mathematical definition below. Note that 𝜇 is  the symbol we use for mean. all text Computing the mean isn't fun task, especially if you have hundreds, even thousands or millions of data points to compute the mean for. You definitely don't want to do this by hand, Right. In Python, you can either implement your own mean function, or you can use NumPy.\n",
    "\n",
    "\n",
    "\n",
    "\n",
    "                                          "
   ]
  },
  {
   "cell_type": "code",
   "execution_count": 1,
   "metadata": {},
   "outputs": [
    {
     "name": "stdout",
     "output_type": "stream",
     "text": [
      "30.0\n"
     ]
    }
   ],
   "source": [
    "def mean(t) :\n",
    "    return(float(sum(t))/ len(t))\n",
    "num = [10,20,30,40,50]\n",
    "print(mean(num))"
   ]
  },
  {
   "cell_type": "code",
   "execution_count": 2,
   "metadata": {},
   "outputs": [
    {
     "data": {
      "text/plain": [
       "3.5"
      ]
     },
     "execution_count": 2,
     "metadata": {},
     "output_type": "execute_result"
    }
   ],
   "source": [
    "import numpy as np\n",
    "np.mean([1,4,3,2,6,4,4,3,2,6])"
   ]
  },
  {
   "cell_type": "code",
   "execution_count": 4,
   "metadata": {},
   "outputs": [
    {
     "name": "stdout",
     "output_type": "stream",
     "text": [
      "5\n"
     ]
    }
   ],
   "source": [
    "import statistics as st\n",
    "num = ([1,2,3,4,5,6,7,8,9])\n",
    "print(st.mean(num))"
   ]
  },
  {
   "cell_type": "markdown",
   "metadata": {},
   "source": [
    "# Median"
   ]
  },
  {
   "cell_type": "code",
   "execution_count": 5,
   "metadata": {},
   "outputs": [
    {
     "data": {
      "text/plain": [
       "3.0"
      ]
     },
     "execution_count": 5,
     "metadata": {},
     "output_type": "execute_result"
    }
   ],
   "source": [
    "arr = np.array([1,2,3,4.,5])\n",
    "\n",
    "np.median(arr)"
   ]
  },
  {
   "cell_type": "code",
   "execution_count": 6,
   "metadata": {},
   "outputs": [
    {
     "name": "stdout",
     "output_type": "stream",
     "text": [
      "Median is: 3\n"
     ]
    }
   ],
   "source": [
    "n_num = [1, 2, 3, 4, 5]\n",
    "n = len(n_num)\n",
    "n_num.sort()\n",
    "  \n",
    "if n % 2 == 0:\n",
    "    median1 = n_num[n//2]\n",
    "    median2 = n_num[n//2 - 1]\n",
    "    median = (median1 + median2)/2\n",
    "else:\n",
    "    median = n_num[n//2]\n",
    "print(\"Median is: \" + str(median))"
   ]
  },
  {
   "cell_type": "code",
   "execution_count": 11,
   "metadata": {},
   "outputs": [
    {
     "name": "stdout",
     "output_type": "stream",
     "text": [
      "Median is : 3\n"
     ]
    }
   ],
   "source": [
    "#function to find out median of a list\n",
    "\n",
    "num = [1,2,3,4,5]\n",
    "\n",
    "n = len(num)\n",
    "\n",
    "num.sort()\n",
    "\n",
    "if(n%2 == 0):\n",
    "    med1 = num[n//2]\n",
    "    med2 = num[n//2]\n",
    "    median = med1 + med2\n",
    "else:\n",
    "    median = num[n//2]\n",
    "print('Median is : ' +str(median))"
   ]
  },
  {
   "cell_type": "code",
   "execution_count": 12,
   "metadata": {},
   "outputs": [
    {
     "data": {
      "text/plain": [
       "3"
      ]
     },
     "execution_count": 12,
     "metadata": {},
     "output_type": "execute_result"
    }
   ],
   "source": [
    "st.median([1,2,3,4,5])"
   ]
  },
  {
   "cell_type": "markdown",
   "metadata": {},
   "source": [
    "# Mode"
   ]
  },
  {
   "cell_type": "code",
   "execution_count": 13,
   "metadata": {},
   "outputs": [
    {
     "name": "stdout",
     "output_type": "stream",
     "text": [
      "ModeResult(mode=array([86]), count=array([3]))\n"
     ]
    }
   ],
   "source": [
    "from scipy import stats\n",
    "\n",
    "speed = [99,86,87,88,111,86,103,87,78,77,85,86]\n",
    "\n",
    "x= stats.mode(speed)\n",
    "\n",
    "print(x)"
   ]
  },
  {
   "cell_type": "code",
   "execution_count": 3,
   "metadata": {},
   "outputs": [
    {
     "name": "stdout",
     "output_type": "stream",
     "text": [
      "multimode output   : [4, 2]\n",
      "mode output : 4\n"
     ]
    }
   ],
   "source": [
    "import statistics\n",
    "\n",
    "print(\"multimode output   :\",statistics.multimode([4, 1, 2, 2, 3, 5, 4]))\n",
    "\n",
    "print(\"mode output :\",statistics.mode([4, 1, 2, 2, 3, 5, 4]))"
   ]
  },
  {
   "cell_type": "code",
   "execution_count": 19,
   "metadata": {},
   "outputs": [
    {
     "data": {
      "text/plain": [
       "['few', 'many']"
      ]
     },
     "execution_count": 19,
     "metadata": {},
     "output_type": "execute_result"
    }
   ],
   "source": [
    "statistics.multimode([\"few\",\"few\",\"many\",\"some\",\"many\"])"
   ]
  },
  {
   "cell_type": "markdown",
   "metadata": {},
   "source": [
    "# Variance\n",
    "\n",
    "\n",
    "In the same way that the mean is used to describe the central tendancy. Variance is intended to describe the spread.\n",
    "\n",
    "                                         σ2 = ∑ni=1 (xi – μ)2 / N\n",
    "                                           \n",
    "                                           \n",
    "The xi-𝜇 is called the \"deviation from the mean\",making the variance the squared deviation multiplied by 1 over the number of samples. This is why the square root of the variance,σ, is called the standard deviation. Using the mean function we created above, we'll write up a function the calculates the variance:\n",
    "\n",
    "\n",
    "\n",
    "\n",
    "\n",
    "\n",
    "# Variance is the sum of squares of differences between all numbers and means.\n",
    "\n",
    "\n",
    "\n",
    "# Variance in Python Using Numpy:\n",
    "\n",
    "One can calculate the variance by using numpy.var()fuction in python.\n",
    "\n",
    "Syntax:\n",
    "\n",
    "numpy.var(a, axis=None, dtype=None, ddof=0, keepdims=)\n",
    "\n",
    "Parameters:\n",
    "\n",
    "a: Array containing data to be averaged \n",
    "\n",
    "axis: Axis or axes along which to average a\n",
    "\n",
    "ddof: Delta Degrees of Freedom\n",
    "\n",
    "keepdims: If this is set to True, the axes which are reduced are left in the result as dimensions with size one\n",
    "                                            \n",
    "                                           \n"
   ]
  },
  {
   "cell_type": "code",
   "execution_count": 6,
   "metadata": {},
   "outputs": [
    {
     "name": "stdout",
     "output_type": "stream",
     "text": [
      "4.0\n"
     ]
    }
   ],
   "source": [
    "# Python program to get variance of a list\n",
    "\n",
    "# Importing the NumPy module\n",
    "import numpy as np\n",
    "\n",
    "# Taking a list of elements \n",
    "list = [2, 4, 4, 4, 5, 5, 7, 9]\n",
    "\n",
    "# Calculating variance using var()\n",
    "print(np.var(list))"
   ]
  },
  {
   "cell_type": "code",
   "execution_count": 21,
   "metadata": {},
   "outputs": [
    {
     "name": "stdout",
     "output_type": "stream",
     "text": [
      "124.23809523809524\n"
     ]
    }
   ],
   "source": [
    "dataset=[21,19,11,21,19,46,29]\n",
    "\n",
    "print(st.variance(dataset))"
   ]
  },
  {
   "cell_type": "code",
   "execution_count": 25,
   "metadata": {},
   "outputs": [],
   "source": [
    "def var(t, mu):\n",
    "    dev2 = [(x -mu)**2 for x in t]\n",
    "    var = mean(dev2)\n",
    "    return(var)"
   ]
  },
  {
   "cell_type": "code",
   "execution_count": 5,
   "metadata": {},
   "outputs": [
    {
     "name": "stdout",
     "output_type": "stream",
     "text": [
      "6.4\n"
     ]
    }
   ],
   "source": [
    "print(np.var([1,3,3,6,3,2,7,5,9,1]))"
   ]
  },
  {
   "cell_type": "markdown",
   "metadata": {},
   "source": [
    "# Standard Deviation\n",
    "\n",
    "Standard Deviation is the square root of variance. It is a measure of the extent to which data varies from the mean. The mathematical formula for calculating standard deviation is as follows,\n",
    "\n",
    "\n",
    "Standard Deviation in Python Using Numpy:\n",
    "\n",
    "One can calculate the standard deviation by using numpy std() function in Python.\n",
    "\n",
    "Syntax:\n",
    "\n",
    "numpy.std(a,axis=None, dtype=None, out=None, ddof=0, keepdims=)\n",
    "\n",
    "Parameters:\n",
    "\n"
   ]
  },
  {
   "cell_type": "code",
   "execution_count": 9,
   "metadata": {},
   "outputs": [
    {
     "name": "stdout",
     "output_type": "stream",
     "text": [
      "2.0\n"
     ]
    }
   ],
   "source": [
    "# Python program to get standard deviation of a list\n",
    "\n",
    "# importing the NumPy module\n",
    "import numpy as np\n",
    "\n",
    "# Taking a list of elements\n",
    "list = [2, 4, 4, 4, 5, 5, 7, 9]\n",
    "\n",
    "# Calculating standard\n",
    "# deviation using var()\n",
    "print(np.std(list))"
   ]
  },
  {
   "cell_type": "code",
   "execution_count": null,
   "metadata": {},
   "outputs": [],
   "source": []
  }
 ],
 "metadata": {
  "kernelspec": {
   "display_name": "Python 3",
   "language": "python",
   "name": "python3"
  },
  "language_info": {
   "codemirror_mode": {
    "name": "ipython",
    "version": 3
   },
   "file_extension": ".py",
   "mimetype": "text/x-python",
   "name": "python",
   "nbconvert_exporter": "python",
   "pygments_lexer": "ipython3",
   "version": "3.8.5"
  }
 },
 "nbformat": 4,
 "nbformat_minor": 5
}
