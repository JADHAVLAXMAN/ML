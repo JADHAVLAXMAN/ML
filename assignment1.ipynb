{
 "cells": [
  {
   "cell_type": "markdown",
   "metadata": {},
   "source": [
    "#                   ASSIGNMENT – 1:Part-1  [ NumPy Library ]            \n",
    "\n",
    "\n",
    "\n",
    "#### 1] . Write NumPy program to create an array with the values 10,20,30,40 and determine the size of the memory occupied by the array."
   ]
  },
  {
   "cell_type": "code",
   "execution_count": 12,
   "metadata": {},
   "outputs": [
    {
     "ename": "ModuleNotFoundError",
     "evalue": "No module named 'numpy'",
     "output_type": "error",
     "traceback": [
      "\u001b[1;31m---------------------------------------------------------------------------\u001b[0m",
      "\u001b[1;31mModuleNotFoundError\u001b[0m                       Traceback (most recent call last)",
      "\u001b[1;32m~\\AppData\\Local\\Temp/ipykernel_15496/2576395655.py\u001b[0m in \u001b[0;36m<module>\u001b[1;34m\u001b[0m\n\u001b[1;32m----> 1\u001b[1;33m \u001b[1;32mimport\u001b[0m \u001b[0mnumpy\u001b[0m \u001b[1;32mas\u001b[0m \u001b[0mnp\u001b[0m\u001b[1;33m\u001b[0m\u001b[1;33m\u001b[0m\u001b[0m\n\u001b[0m\u001b[0;32m      2\u001b[0m \u001b[0mx\u001b[0m \u001b[1;33m=\u001b[0m \u001b[0mnp\u001b[0m\u001b[1;33m.\u001b[0m\u001b[0marray\u001b[0m\u001b[1;33m(\u001b[0m\u001b[1;33m[\u001b[0m\u001b[1;36m10\u001b[0m\u001b[1;33m,\u001b[0m \u001b[1;36m20\u001b[0m\u001b[1;33m,\u001b[0m \u001b[1;36m30\u001b[0m\u001b[1;33m,\u001b[0m \u001b[1;36m40\u001b[0m\u001b[1;33m]\u001b[0m\u001b[1;33m)\u001b[0m\u001b[1;33m\u001b[0m\u001b[1;33m\u001b[0m\u001b[0m\n\u001b[0;32m      3\u001b[0m \u001b[0mprint\u001b[0m\u001b[1;33m(\u001b[0m\u001b[1;34m\"Original array:\"\u001b[0m\u001b[1;33m)\u001b[0m\u001b[1;33m\u001b[0m\u001b[1;33m\u001b[0m\u001b[0m\n\u001b[0;32m      4\u001b[0m \u001b[0mprint\u001b[0m\u001b[1;33m(\u001b[0m\u001b[0mx\u001b[0m\u001b[1;33m)\u001b[0m\u001b[1;33m\u001b[0m\u001b[1;33m\u001b[0m\u001b[0m\n\u001b[0;32m      5\u001b[0m \u001b[0mprint\u001b[0m\u001b[1;33m(\u001b[0m\u001b[1;34m'Size of the memory occupied by the array:'\u001b[0m\u001b[1;33m)\u001b[0m\u001b[1;33m\u001b[0m\u001b[1;33m\u001b[0m\u001b[0m\n",
      "\u001b[1;31mModuleNotFoundError\u001b[0m: No module named 'numpy'"
     ]
    }
   ],
   "source": [
    "import numpy as np\n",
    "x = np.array([10, 20, 30, 40])\n",
    "print(\"Original array:\")\n",
    "print(x)\n",
    "print('Size of the memory occupied by the array:')\n",
    "print(\"%d bytes\" % (x.size * x.itemsize))\n"
   ]
  },
  {
   "cell_type": "markdown",
   "metadata": {},
   "source": [
    "#### 2]  . Write NumPy program to to compute sum of all elements, sum of each column and sum of each row of a given array.\n",
    "\n"
   ]
  },
  {
   "cell_type": "code",
   "execution_count": null,
   "metadata": {},
   "outputs": [
    {
     "name": "stdout",
     "output_type": "stream",
     "text": [
      "Original array:\n",
      "[[1 2]\n",
      " [2 3]]\n",
      "Sum of all elements:\n",
      "8\n",
      "Sum of each column:\n",
      "[3 5]\n",
      "Sum of each row:\n",
      "[3 5]\n"
     ]
    }
   ],
   "source": [
    "import numpy as np\n",
    "x = np.array([[1,2],[2,3]])\n",
    "print(\"Original array:\")\n",
    "print(x)\n",
    "print(\"Sum of all elements:\")\n",
    "print(np.sum(x))\n",
    "print(\"Sum of each column:\")\n",
    "print(np.sum(x, axis=0))\n",
    "print(\"Sum of each row:\")\n",
    "print(np.sum(x, axis=1))"
   ]
  },
  {
   "cell_type": "markdown",
   "metadata": {},
   "source": [
    "#### 3] . Write a Numpy program to get floor, ceiling and truncated values of the elements of a numpy array."
   ]
  },
  {
   "cell_type": "code",
   "execution_count": null,
   "metadata": {},
   "outputs": [
    {
     "ename": "",
     "evalue": "",
     "output_type": "error",
     "traceback": [
      "\u001b[1;31mRunning cells with 'c:\\Users\\LUCKY\\AppData\\Local\\Programs\\Python\\Python311\\python.exe' requires the ipykernel package.\n",
      "\u001b[1;31mRun the following command to install 'ipykernel' into the Python environment. \n",
      "\u001b[1;31mCommand: 'c:/Users/LUCKY/AppData/Local/Programs/Python/Python311/python.exe -m pip install ipykernel -U --user --force-reinstall'"
     ]
    }
   ],
   "source": [
    "import numpy as np\n",
    "x = np.array([-1.6, -1.5, -0.3, 0.1, 1.4, 1.8, 2.0])\n",
    "print(\"Original array:\")\n",
    "print(x)\n",
    "print(\"Floor values of the above array elements:\")\n",
    "print(np.floor(x))\n",
    "print(\"Ceil values of the above array elements:\")\n",
    "print(np.ceil(x))\n",
    "print(\"Truncated values of the above array elements:\")\n",
    "print(np.trunc(x))\n"
   ]
  },
  {
   "cell_type": "markdown",
   "metadata": {},
   "source": [
    "#### 4] . Write a NumPy program to calculate mean across dimension, in a 2D numpy array."
   ]
  },
  {
   "cell_type": "code",
   "execution_count": null,
   "metadata": {},
   "outputs": [
    {
     "name": "stdout",
     "output_type": "stream",
     "text": [
      "Original array:\n",
      "[[20 30]\n",
      " [20 60]]\n",
      "Mean of each column:\n",
      "[20. 45.]\n",
      "Mean of each row:\n",
      "[25. 40.]\n"
     ]
    }
   ],
   "source": [
    "import numpy as np\n",
    "x = np.array([[20, 30], [20, 60]])\n",
    "print(\"Original array:\")\n",
    "print(x)\n",
    "print(\"Mean of each column:\")\n",
    "print(x.mean(axis=0))\n",
    "print(\"Mean of each row:\")\n",
    "print(x.mean(axis=1))\n"
   ]
  },
  {
   "cell_type": "markdown",
   "metadata": {},
   "source": [
    "####  5] . Write NumPy program to Print Odd Numbers in an Array."
   ]
  },
  {
   "cell_type": "code",
   "execution_count": null,
   "metadata": {},
   "outputs": [
    {
     "name": "stdout",
     "output_type": "stream",
     "text": [
      "The List of Odd Numbers in this  Array\n",
      "25  65  75  121  "
     ]
    }
   ],
   "source": [
    "# Print Odd in Array\n",
    "import numpy as np\n",
    "\n",
    "oddArr = np.array([10, 25, 30, 65, 75, 50, 121])\n",
    "\n",
    "print('The List of Odd Numbers in this  Array')\n",
    "for i in range(len(oddArr)):\n",
    "    if (oddArr[i] % 2 != 0):\n",
    "        print(oddArr[i], end = \"  \")"
   ]
  },
  {
   "cell_type": "code",
   "execution_count": null,
   "metadata": {},
   "outputs": [
    {
     "name": "stdout",
     "output_type": "stream",
     "text": [
      "The List of Even Numbers in this Array\n",
      "10  30  50  "
     ]
    }
   ],
   "source": [
    "# Print even in Array\n",
    "import numpy as np\n",
    "\n",
    "evenArr = np.array([10, 25, 30, 65, 75, 50, 121])\n",
    "\n",
    "print('The List of Even Numbers in this Array')\n",
    "for i in range(len(evenArr)):\n",
    "    if (evenArr[i] % 2 == 0):\n",
    "        print(evenArr[i], end = \"  \")"
   ]
  },
  {
   "cell_type": "code",
   "execution_count": null,
   "metadata": {},
   "outputs": [],
   "source": []
  }
 ],
 "metadata": {
  "kernelspec": {
   "display_name": "Python 3",
   "language": "python",
   "name": "python3"
  },
  "language_info": {
   "codemirror_mode": {
    "name": "ipython",
    "version": 3
   },
   "file_extension": ".py",
   "mimetype": "text/x-python",
   "name": "python",
   "nbconvert_exporter": "python",
   "pygments_lexer": "ipython3",
   "version": "3.11.2"
  }
 },
 "nbformat": 4,
 "nbformat_minor": 5
}
